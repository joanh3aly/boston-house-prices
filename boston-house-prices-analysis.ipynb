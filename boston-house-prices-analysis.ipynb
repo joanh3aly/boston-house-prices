{
 "cells": [
  {
   "cell_type": "markdown",
   "metadata": {},
   "source": [
    "(20%) Describe: Create a git repository and make it available online for the lecturer to clone. The repository should contain all your work for this assessment. Within the repository, create a jupyter [6] notebook that uses descriptive statistics and plots to describe the Boston House Prices [1] dataset. \n",
    "\n",
    "*Good summary of the dataset, repository well laid-out and organised. Reasonable commits to the repository.*\n",
    "\n",
    "(20%) Infer: To the above jupyter notebook, add a section where you use inferential statistics to analyse whether there is a significant difference in median house prices between houses that are along the Charles river and those that aren’t. You should explain and discuss your findings within the notebook.\n",
    "\n",
    "*Appropriate analysis of the relationship between the me- dian house price and whether the house borders the river, with good explanations of the analysis.*\n",
    "\n",
    "(60%) Predict: Again using the same notebook, use keras [7] to create a neural network that can predict the median house price based on the other variables in the dataset. You are free to interpret this as you wish — for example, you may use all the other variables, or select a subset. \n",
    "\n",
    "*Well-trained neural network providing decent predictions of house prices based on the other variables. Good explanations of how to use the neural network and how it works.*\n",
    "\n",
    "- Project plan in readme / github issues\n",
    "- Explanation of project in readme\n",
    "\n",
    "\n",
    "[1] Boston Standard Metropolitan Statistical Area. Boston house prices dataset. https://www.kaggle.com/c/boston-housing.\n",
    "\n",
    "[2] SciPy developers. The scipy python package. https://www.scipy.org/.\n",
    "\n",
    "[3] Python Software Foundation. Welcome to python.org. https://www.python.org/.\n",
    "\n",
    "[4] GMIT. Quality assurance framework. https://www.gmit.ie/general/quality-assurance-framework.\n",
    "\n",
    "[5] GitHub Guides. Mastering markdown. https://guides.github.com/features/mastering-markdown/.\n",
    "\n",
    "[6] Project Jupyter. Project jupyter. https://jupyter.org/.\n",
    "\n",
    "[7] Keras Team. Keras: The python deep learning library. https://keras.io/."
   ]
  },
  {
   "cell_type": "code",
   "execution_count": null,
   "metadata": {
    "collapsed": true
   },
   "outputs": [],
   "source": []
  }
 ],
 "metadata": {
  "kernelspec": {
   "display_name": "Python 3",
   "language": "python",
   "name": "python3"
  },
  "language_info": {
   "codemirror_mode": {
    "name": "ipython",
    "version": 3
   },
   "file_extension": ".py",
   "mimetype": "text/x-python",
   "name": "python",
   "nbconvert_exporter": "python",
   "pygments_lexer": "ipython3",
   "version": "3.6.8"
  }
 },
 "nbformat": 4,
 "nbformat_minor": 2
}
